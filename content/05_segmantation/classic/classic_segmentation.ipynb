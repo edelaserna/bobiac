{
 "cells": [
  {
   "cell_type": "markdown",
   "id": "16a60488",
   "metadata": {},
   "source": [
    "# classic segmentation\n",
    "\n",
    "<div class=\"custom-button-row\">\n",
    "    <a \n",
    "        class=\"custom-button custom-download-button\" href=\"../../notebooks/4_python_basics/Intro_to_Python_II.ipynb\" download>\n",
    "        <i class=\"fas fa-download\"></i> Download this Notebook\n",
    "    </a>\n",
    "    <a\n",
    "    class=\"custom-button custom-download-button\" href=\"https://colab.research.google.com/github/HMS-IAC/bobiac/blob/gh-pages/colab_notebooks/4_python_basics/Intro_to_Python_II.ipynb\" target=\"_blank\">\n",
    "        <img class=\"button-icon\" src=\"../../_static/logo/icon-google-colab.svg\" alt=\"Open in Colab\">\n",
    "        Open in Colab\n",
    "    </a>\n",
    "</div>"
   ]
  },
  {
   "cell_type": "code",
   "execution_count": 1,
   "id": "9f33553a",
   "metadata": {
    "jupyter": {
     "source_hidden": true
    }
   },
   "outputs": [],
   "source": [
    "# /// script\n",
    "# requires-python = \">=3.10\"\n",
    "# ///\n",
    "\n",
    "# Standard library imports (no need to declare in dependencies)"
   ]
  },
  {
   "cell_type": "markdown",
   "id": "0ab370b9",
   "metadata": {},
   "source": [
    "## Boston Bioimage Analysis Course\n",
    "\n",
    "Welcome to your next step in learning image processing with Python!  \n",
    "This notebook is written **like a small interactive book** to complement the lecture.\n",
    "\n",
    "This notebook covers the following **core building blocks**:\n",
    "\n",
    "| Chapter | Concept | Why it matters |\n",
    "|---------|---------|----------------|\n",
    "| 0 | [Setup](#0-setup) | Import necessary packages |\n",
    "| 1 | [Loading an Image](#1-data-types) | Learn how to open tif images and display them |\n",
    "| 2 | [Thresholding](#2-variables) | Learn how to use thresholding to generate a binary mask |\n",
    "| 3 | [Filtering](#3-operators) | Learn how to process images to improve thresholding results |\n",
    "| 4 | [Mask Curation](#4-data-structures) | Learn how to use watershed segmentation to refine binary masks |\n",
    "| 5 | [Mask Labeling](#5-data-structures-lists) | Learn how to label a binary mask |\n",
    "\n",
    "Each chapter has:\n",
    "\n",
    "1. **Narrative explanation** – read this like a textbook.\n",
    "2. **Live demo** – run and play.\n",
    "3. **Exercise** – _your turn_ & _guess the output!_ ✅ "
   ]
  },
  {
   "cell_type": "code",
   "execution_count": null,
   "metadata": {},
   "outputs": [],
   "source": []
  },
  {
   "cell_type": "markdown",
   "id": "94c41893",
   "metadata": {},
   "source": [
    "***"
   ]
  },
  {
   "cell_type": "markdown",
   "id": "5eaf93b8",
   "metadata": {},
   "source": [
    "## <div style = 'background-color:#74B868'> 0. Setup \n",
    "</div>"
   ]
  },
  {
   "cell_type": "markdown",
   "id": "66cd7d03",
   "metadata": {},
   "source": [
    "**Concept.**  \n",
    "We are going to be using existing Python packages for classic segmentation, so we need to tell `uv` what they are. This is called specifying our **dependencies**.\n",
    "\n",
    "Eva check with F/M/T how we want to handle this stuff. \n",
    "\n",
    "### Dependencies with uv\n",
    "How much redundancy should be here..."
   ]
  },
  {
   "cell_type": "markdown",
   "id": "68d79a7a",
   "metadata": {},
   "source": [
    "***"
   ]
  },
  {
   "cell_type": "markdown",
   "id": "fcf30588",
   "metadata": {},
   "source": [
    "## <div style = 'background-color:#74B868'> 1. Loading an Image\n",
    "</div>"
   ]
  },
  {
   "cell_type": "markdown",
   "id": "c5317c0e",
   "metadata": {},
   "source": [
    "**Concept.**\n",
    "To work with an image in Python, we need to specify where the image file is so that we can **read**, or load, it. Once the image file is read, we can **view** it.  \n",
    "\n",
    "### File paths\n",
    "A file's **path** is the location of where a file is located on your computer. They tend to be structured as a path of consecutive folder names that ends with your file name. In Python, we specify paths as `str` types. They tend to be structured as follows: \n",
    "```python\n",
    "# file path on a mac\n",
    "'/Users/edelase/HMS Dropbox/Eva de la Serna/Eva_CITE_folder/projects/bobiac/lectures/classic_segmentation/img.tif'\n",
    "\n",
    "# file path on a pc\n",
    "'\\D:\\Eva_CITE_folder\\projects\\bobiac\\lectures\\classic_segmentation\\img.tif'\n",
    "\n",
    "```\n",
    "Yes, on unix-based operating systems like MacOS X, each step to get to your file is separated by a `/`. However on Windows systems, each step to get to your file is separated by a `\\`. Luckily, Python is very smart and has a way to overlook this difference by adding an `r` at the beginning of the directory right before the `str`:\n",
    "```python\n",
    "# file path on a pc\n",
    "r'\\D:\\Eva_CITE_folder\\projects\\bobiac\\lectures\\classic_segmentation\\img.tif'\n",
    "```\n",
    "\n",
    "### Finding your file's path\n",
    "There are many ways to find your file's path. Here's one way that works regardless of your operating system: \n",
    "1. Find your file. \n",
    "2. Open up terminal (macOS X) or Command Prompt (Windows), and drag the file into the window. \n",
    "3. What displays after is the file's path! You can copy and paste it into your code as a `str`. \n",
    "\n",
    "**❗️CAUTION❗️** Be wary of spaces in folder names, as they sometimes cause terminal to add `\\` or `/` to file directories where they should not be. It is best practice to always use `_` in folder names whenever you would have wanted to have a space.\n",
    "\n",
    "**🗒️ NOTE:** Specifying file paths is a common task outside of image segmentation with Python, so some of you may have experience with this already. Note the terminology though. An individual file's location is a **path**. A folder's path containing an individual or multiple files is called a **directory**.\n",
    "\n",
    "### Specifying your file's path\n",
    "Once you have found your file's path, you should assign it to a variable to make it easy to work with. Here's an example:\n",
    "```python\n",
    "file_path = '/Users/edelase/HMS Dropbox/Eva de la Serna/Eva_CITE_folder/projects/bobiac/lectures/classic_segmentation/img.tif'\n",
    "```\n",
    "Now you give it a try!"
   ]
  },
  {
   "cell_type": "markdown",
   "id": "0c2962de",
   "metadata": {},
   "source": [
    "<div class=\"alert alert-info\">\n",
    "  <strong> 📓 ACTION 1.1: Specify a file's path</strong>\n",
    "</div>\n",
    "\n",
    "Find your file's path, then assign it to the variable `image_path`. "
   ]
  },
  {
   "cell_type": "code",
   "execution_count": 1,
   "id": "95a2b64c",
   "metadata": {},
   "outputs": [],
   "source": [
    "image_path = '/Users/edelase/HMS Dropbox/Eva de la Serna/Eva_CITE_folder/projects/bobiac/lectures/classic_segmentation/DAPI_wf_0.tif'"
   ]
  },
  {
   "cell_type": "markdown",
   "id": "61607421",
   "metadata": {},
   "source": [
    "### Reading an image\n",
    "There are many different ways to read image files in Python. In this lesson, we are using the Python package `tifffile`, to read .tif image files. In order to read an image with `tifffile`, you will need to import it and provide it with the image's path. We can do that as follows: \n",
    "```python\n",
    "import tifffile\n",
    "tifffile.imread(image_path)\n",
    "```\n",
    "`tifffile.imread()` will use that `image_path` you inputted to find your file and read it. It will then return the read file. Since we will be wanting to work with this file, we should assign the output to a variable for easy reference: \n",
    "```python\n",
    "raw_image = tifffile.imread(image_path)\n",
    "```\n",
    "\n",
    "Now you give it a try!"
   ]
  },
  {
   "cell_type": "markdown",
   "id": "14084981",
   "metadata": {},
   "source": [
    "<div class=\"alert alert-info\">\n",
    "  <strong> 📓 ACTION 1.2: Load the image with tifffile</strong>\n",
    "</div>\n",
    "\n",
    "Use tifffile to read your file and assign it to the variable `raw_image`."
   ]
  },
  {
   "cell_type": "code",
   "execution_count": 2,
   "id": "f752d458",
   "metadata": {},
   "outputs": [],
   "source": [
    "import tifffile\n",
    "raw_image = tifffile.imread(image_path)"
   ]
  },
  {
   "cell_type": "markdown",
   "id": "4ae4186f",
   "metadata": {},
   "source": [
    "### Viewing the image\n",
    "In Python, reading the image and viewing it are two separate actions. Now that we have read the image and assigned it to the variable `raw_image`, we can display, or view, it using `matplotlib.pyplot`, which we can import as `plt` for conciseness. We can do this as follows: \n",
    "```python\n",
    "import matplotlib.pyplot as plt\n",
    "plt.imshow(raw_image)\n",
    "```\n",
    "`plt.imshow()` will use that `raw_image` you inputted to plot your image. It will then return the plot to view. "
   ]
  },
  {
   "cell_type": "markdown",
   "id": "624c494d",
   "metadata": {},
   "source": [
    "<div class=\"alert alert-info\">\n",
    "  <strong> 📓 ACTION 1.3: View the image with matplotlib</strong>\n",
    "</div>\n",
    "\n",
    "Use `matplotlib.pyplot` to view `raw_image`."
   ]
  },
  {
   "cell_type": "code",
   "execution_count": 3,
   "id": "9e7447ab",
   "metadata": {},
   "outputs": [
    {
     "data": {
      "text/plain": [
       "<matplotlib.image.AxesImage at 0x114478b50>"
      ]
     },
     "execution_count": 3,
     "metadata": {},
     "output_type": "execute_result"
    },
    {
     "data": {
      "image/png": "[encoded data removed]",
      "text/plain": [
       "<Figure size 640x480 with 1 Axes>"
      ]
     },
     "metadata": {},
     "output_type": "display_data"
    }
   ],
   "source": [
    "import matplotlib.pyplot as plt\n",
    "plt.imshow(raw_image)"
   ]
  },
  {
   "cell_type": "markdown",
   "id": "40465674",
   "metadata": {},
   "source": [
    "***"
   ]
  },
  {
   "cell_type": "markdown",
   "id": "3dc95a1a",
   "metadata": {},
   "source": [
    "## <div style = 'background-color:#74B868'> 2. Thresholding\n",
    "</div>"
   ]
  },
  {
   "cell_type": "markdown",
   "id": "8a24d030",
   "metadata": {},
   "source": [
    "**Concept.**  \n",
    "**Thresholding** is when we select a range of digital values, or **intensity values**, in the image. These selected values are how we define regions of the image we are interested in. \n",
    "\n",
    "### Displaying an image's histogram\n",
    "Since thresholding is based on intensity values, it will be helpful to get a sense of what our image's intensity values are! A histogram is a very helpful graph to visualize distributions of values, including intensity values! We can use `matplotlib`, which we imported as `plt`, to generate a histogram of our image as follows:\n",
    "```python\n",
    "plt.histogram(raw_image)\n",
    "```\n",
    "Here, `plt.histogram()` will use that `raw_image` you inputted to plot the distribution of its intensity values. It will then return the plot to view."
   ]
  },
  {
   "cell_type": "markdown",
   "id": "deddaff2",
   "metadata": {},
   "source": [
    "<div class=\"alert alert-info\">\n",
    "  <strong> 📓 ACTION 2.1: Display an image's histogram</strong>\n",
    "</div>\n",
    "\n",
    "Use `plt` to make a histogram plot of `raw_image` intensity values. "
   ]
  },
  {
   "cell_type": "code",
   "execution_count": 7,
   "id": "39f16918",
   "metadata": {},
   "outputs": [
    {
     "ename": "ModuleNotFoundError",
     "evalue": "No module named 'skimage'",
     "output_type": "error",
     "traceback": [
      "\u001b[0;31m---------------------------------------------------------------------------\u001b[0m",
      "\u001b[0;31mModuleNotFoundError\u001b[0m                       Traceback (most recent call last)",
      "Cell \u001b[0;32mIn[7], line 1\u001b[0m\n\u001b[0;32m----> 1\u001b[0m \u001b[38;5;28;01mfrom\u001b[39;00m \u001b[38;5;21;01mskimage\u001b[39;00m\u001b[38;5;21;01m.\u001b[39;00m\u001b[38;5;21;01mexposure\u001b[39;00m \u001b[38;5;28;01mimport\u001b[39;00m histogram\n\u001b[1;32m      2\u001b[0m hist, hist_centers \u001b[38;5;241m=\u001b[39m histogram(raw_image)\n\u001b[1;32m      3\u001b[0m plt\u001b[38;5;241m.\u001b[39mplot(hist)\n",
      "\u001b[0;31mModuleNotFoundError\u001b[0m: No module named 'skimage'"
     ]
    }
   ],
   "source": [
    "from skimage.exposure import histogram\n",
    "hist, hist_centers = histogram(raw_image)\n",
    "plt.plot(hist)\n",
    "plt.show()"
   ]
  },
  {
   "cell_type": "markdown",
   "id": "5d8902ba",
   "metadata": {},
   "source": [
    "### Defining a threshold\n",
    "Now that we can view our image's distribution of intensity values, let's define a minimum intensity cutoff which separates the **background** (what we don't care about) from the **foreground** (what we do care about). Using the histogram, we can use the left-most bin as a starting point for a cutoff value. For easy reference, assign this value to a variable `min_threshold`: \n",
    "\n",
    "```python\n",
    "min_threshold = 50\n",
    "```\n",
    "Now you give it a try!"
   ]
  },
  {
   "cell_type": "markdown",
   "id": "3d27568e",
   "metadata": {},
   "source": [
    "<div class=\"alert alert-info\">\n",
    "  <strong> 📓 ACTION 2.2: Define a threshold</strong>\n",
    "</div>\n",
    "\n",
    "Declare a `min_threshold` variable with an intensity value cut off. "
   ]
  },
  {
   "cell_type": "code",
   "execution_count": null,
   "id": "e90fe42a",
   "metadata": {},
   "outputs": [],
   "source": [
    "min_threshold = 50"
   ]
  },
  {
   "cell_type": "markdown",
   "id": "958a2217",
   "metadata": {},
   "source": [
    "### Generating a binary mask\n",
    "We now want to use this cutoff value to generate a **binary mask**, which is an image that has 0 values where there is background and 1 values where there is foreground. By generating the binary mask, we will be able to evaluate whether this `min_threshold` is a sufficient cutoff value. \n",
    "\n",
    "We can generate the binary mask by using the comparison operator `>`:\n",
    "```python\n",
    "raw_image > min_threshold\n",
    "```\n",
    "Python will interpret this line of code by going pixel by pixel through `raw_image` and assigning 1 values where a pixel is greater than `min_threshold` and assigning 0 values where a pixel is equal or less than `min_threshold`. The output will be the binary mask image, filled with 1s and 0s. Since this binary mask is something we will be working with, we should assign it a variable. \n",
    "\n",
    "Now you give it a try!"
   ]
  },
  {
   "cell_type": "markdown",
   "id": "1d0329c5",
   "metadata": {},
   "source": [
    "<div class=\"alert alert-info\">\n",
    "  <strong> 📓 ACTION 2.3: Generate a binary mask</strong>\n",
    "</div>\n",
    "\n",
    "Make a binary mask out of `raw_image` using the `min_threshold` variable and assign it to the variable `binary_mask`. Then, use `plt.imshow()` to display it."
   ]
  },
  {
   "cell_type": "code",
   "execution_count": null,
   "id": "c5b864e5",
   "metadata": {},
   "outputs": [],
   "source": [
    "binary_mask = raw_image > min_threshold\n",
    "plt.imshow(binary_mask)"
   ]
  },
  {
   "cell_type": "markdown",
   "id": "3c35605f",
   "metadata": {},
   "source": [
    "### Thresholding Algorithms\n",
    "We can manually change the value assigned to `min_threshold` until we find an optimal intensity cutoff value, but this is tedious and may vary between images in a dataset. Therefore, it is best practice to instead use established thresholding algorithms to automatically define an intensity cutoff value. `skimage.filters` contains many different types of thresholding algorithms, but from that we will be using the Otsu thresholding algorithm `threshold_otsu`. We can do that as follows: \n",
    "```python\n",
    "from skimage.filters import threshold_otsu\n",
    "threshold_otsu(raw_image)\n",
    "```\n",
    "Here, `threshold_otsu()` will use that inputted `raw_image` to calculate an intensity cutoff value. It will return the value. Therefore, we can use it to generate a binary mask: \n",
    "```python\n",
    "binary_mask = raw_image > threshold_otsu(raw_image)\n",
    "```\n",
    "\n",
    "Now you give it a try!"
   ]
  },
  {
   "cell_type": "markdown",
   "id": "c7a79f80",
   "metadata": {},
   "source": [
    "<div class=\"alert alert-info\">\n",
    "  <strong> 📓 ACTION 2.4: Using thresholding algorithms to generate a binary mask</strong>\n",
    "</div>\n",
    "\n",
    "Make a binary mask using `threshold_otsu` from `skimage.filters`, then use `plt.imshow()` to display it."
   ]
  },
  {
   "cell_type": "code",
   "execution_count": null,
   "id": "745cd7aa",
   "metadata": {},
   "outputs": [],
   "source": [
    "from skimage.filters import threshold_otsu\n",
    "binary_mask = raw_image > threshold_otsu(raw_image)\n",
    "plt.imshow(binary_mask)"
   ]
  },
  {
   "cell_type": "markdown",
   "id": "32d4e25b",
   "metadata": {},
   "source": [
    "### Evaluating the binary mask\n",
    "We can evaluate the binary mask by comparing it to the raw image. In particular, we are looking to see whether the white regions (pixel value 1) of the binary mask correspond perfectly to the regions of interest in the raw image. To do this, we can use matplotlib to plot `raw_image` and `binary_mask` side by side. Here's how we structure the code: \n",
    "```python\n",
    "# Create a figure and axis\n",
    "fig, axes = plt.subplots(1, 2, figsize=(15, 5))  # 1 row, 2 columns\n",
    "\n",
    "# Plot the 2 images\n",
    "# raw_image\n",
    "axes[0].imshow(raw_image, cmap='gray', vmin=raw_image.min(), vmax=raw_image.max()) # plot the raw_image\n",
    "axes[0].set_title(\"Raw Image\", fontweight='bold') # label the raw_image\n",
    "axes[0].axis('off')  # Turn off axis\n",
    "\n",
    "# binary_mask\n",
    "axes[1].imshow(binary_mask, cmap='gray', vmin=binary_mask.min(), vmax=binary_mask.max()) # plot the binary_mask\n",
    "axes[1].set_title(\"Binary Mask\", fontweight='bold') # label the binary_mask\n",
    "axes[1].axis('off')  # Turn off axis\n",
    "\n",
    "# Show the plot\n",
    "plt.show()\n",
    "\n",
    "```\n",
    "Viewing images side by side to evaluate processing steps is going to be a frequent action of this lesson. Therefore, let's bundle this code structure into a function! \n",
    "\n",
    "- E needs to check in with Maria because they will have written a function do this already in the previous lesson"
   ]
  },
  {
   "cell_type": "markdown",
   "id": "1461caf3",
   "metadata": {},
   "source": [
    "<div class=\"alert alert-info\">\n",
    "  <strong> 📓 ACTION 2.5: Display raw_img and binary_mask</strong>\n",
    "</div>\n",
    "\n",
    "Use `plt` to plot `raw_image` and `binary_mask` images."
   ]
  },
  {
   "cell_type": "code",
   "execution_count": null,
   "id": "64b7b987",
   "metadata": {},
   "outputs": [],
   "source": [
    "# Create a figure and axis\n",
    "fig, axes = plt.subplots(1, 2, figsize=(15, 5))  # 1 row, 2 columns\n",
    "\n",
    "# Plot the 2 images\n",
    "# raw_image\n",
    "axes[0].imshow(raw_image, cmap='gray', vmin=raw_image.min(), vmax=raw_image.max()) # plot the raw_image\n",
    "axes[0].set_title(\"Raw Image\", fontweight='bold') # label the raw_image\n",
    "axes[0].axis('off')  # Turn off axis\n",
    "\n",
    "#binary_mask\n",
    "axes[1].imshow(binary_mask, cmap='gray', vmin=binary_mask.min(), vmax=binary_mask.max()) # plot the binary_mask\n",
    "axes[1].set_title(\"Binary Mask\", fontweight='bold') # label the binary_mask\n",
    "axes[1].axis('off')  # Turn off axis\n",
    "\n",
    "# Show the plot\n",
    "plt.show()"
   ]
  },
  {
   "cell_type": "markdown",
   "id": "ce9951d2",
   "metadata": {},
   "source": [
    "***"
   ]
  },
  {
   "cell_type": "markdown",
   "id": "2dff935a",
   "metadata": {},
   "source": [
    "## <div style = 'background-color:#74B868'> 3. Filtering\n",
    "</div>"
   ]
  },
  {
   "cell_type": "markdown",
   "id": "7e517d3d",
   "metadata": {},
   "source": [
    "**Concept.**  \n",
    "**Filters** change image pixel values using a **specific mathematical operation** to smooth and reduce noise from images. They can help improve thresholding results. \n",
    "\n",
    "### Applying a filter to an image\n",
    "There are many different filters we can apply. Here's a summary of common ones: \n",
    "| Filter Name | Description | How to import it | Documentation Link | \n",
    "|---------|---------|----------------| ----------------|\n",
    "| mean filter | For a given kernel size, sums values in a list and and then divides by the total number of values | `from skimage.filters.rank import mean` | [skimage.filters.rank.mean](https://scikit-image.org/docs/0.25.x/api/skimage.filters.rank.html#skimage.filters.rank.mean) |\n",
    "| Gaussian blur filter | For a given kernel size, multiply each value by a Gaussian profile weighting, then divide by the total number of values | `from skimage.filters import gaussian` | [skimmage.filters.gaussian](https://scikit-image.org/docs/dev/api/skimage.filters.html#skimage.filters.gaussian) |\n",
    "| median filter | For a given kernel size, take the middle number in a sorted list of numbers | `from skimage.filters import median` | [skimage.filters.median](https://scikit-image.org/docs/dev/api/skimage.filters.html#skimage.filters.median) |\n",
    "\n",
    "\n",
    "For today, let's use the median filter `median` from `skimage.filters`. We can apply this filter to our `raw_image` as follows: \n",
    "```python\n",
    "from skimage.filters import median\n",
    "median(raw_image)\n",
    "```\n",
    "Here, `median()` will use that inputted `raw_image` to go pixel by pixel to apply a 3x3 kernel by default. It will return the filtered image, so we should assign it a variable!\n",
    "```python\n",
    "from skimage.filters import median\n",
    "filtered_image = median(raw_image)\n",
    "```\n",
    "\n",
    "Now you give it a try!"
   ]
  },
  {
   "cell_type": "markdown",
   "id": "3c298ff3",
   "metadata": {},
   "source": [
    "<div class=\"alert alert-info\">\n",
    "  <strong> 📓 ACTION 3.1: Apply a median filter to raw_image</strong>\n",
    "</div>\n",
    "\n",
    "From `skimage.filters`, use `median()` to apply a median filter to `raw_image`. "
   ]
  },
  {
   "cell_type": "code",
   "execution_count": null,
   "id": "0e429e12",
   "metadata": {},
   "outputs": [],
   "source": [
    "from skimage.filters import median\n",
    "filtered_image = median(raw_image)"
   ]
  },
  {
   "cell_type": "markdown",
   "id": "a5357824",
   "metadata": {},
   "source": [
    "### Use the filtered image to define a threshold and generate a binary mask\n",
    "Now, we can go through the same steps of applying Otsu thresholding to `filtered_image` and then generating a binary mask. Go ahead and give it a try!"
   ]
  },
  {
   "cell_type": "markdown",
   "id": "06f96e41",
   "metadata": {},
   "source": [
    "<div class=\"alert alert-info\">\n",
    "  <strong> 📓 ACTION 3.2: Generate a binary mask with the filtered image</strong>\n",
    "</div>\n",
    "\n",
    "Use Otsu thresholding to threshold `filtered_image` and generate a binary mask. Assign that binary mask to the variable `filtered_binary_mask`. Then display `filtered_binary_mask` with `plt.imshow()`."
   ]
  },
  {
   "cell_type": "code",
   "execution_count": null,
   "id": "511ede25",
   "metadata": {},
   "outputs": [],
   "source": [
    "filtered_binary_mask = filtered_image > threshold_otsu(filtered_image)\n",
    "plt.imshow(filtered_binary_mask)"
   ]
  },
  {
   "cell_type": "markdown",
   "id": "6cdacd45",
   "metadata": {},
   "source": [
    "### Evaluating the filtered binary mask\n",
    "We can evaluate the effect on filtering `raw_image` before generating a binary mask by comparing `binary_mask` to `filtered_binary_mask`. Again, we are looking to see whether the white regions (pixel value 1) of `filtered_binary_mask` correspond to the regions of interest in the raw image *better* than `binary_mask` white regions. To do this, we can use `plt` to plot `raw_image`, `binary_mask`, and `filtered_binary_mask` side by side. Here's how we structure the code: \n",
    "```python\n",
    "# Create a figure and axis\n",
    "fig, axes = plt.subplots(1, 3, figsize=(15, 5))  # 1 row, 3 columns\n",
    "\n",
    "# Plot the 3 images\n",
    "#raw_image\n",
    "axes[0].imshow(raw_image, cmap='gray', vmin=raw_image.min(), vmax=raw_image.max()) # plot the raw_image\n",
    "axes[0].set_title(\"Raw Image\", fontweight='bold') # label the raw_image\n",
    "axes[0].axis('off')  # Turn off axis\n",
    "\n",
    "# binary_mask (using raw_image)\n",
    "axes[1].imshow(binary_mask, cmap='gray', vmin=binary_mask.min(), vmax=binary_mask.max()) # plot the binary_mask\n",
    "axes[1].set_title(\"Unfiltered Binary Mask\", fontweight='bold') # label the binary_mask\n",
    "axes[1].axis('off')  # Turn off axis\n",
    "\n",
    "# filtered_binary_mask (using filtered_image)\n",
    "axes[2].imshow(filtered_binary_mask, cmap='gray', vmin=filtered_binary_mask.min(), vmax=filtered_binary_mask.max()) # plot the filtered_binary_mask\n",
    "axes[2].set_title(\"Filtered Binary Mask\", fontweight='bold') # label the filtered_binary_mask\n",
    "axes[2].axis('off')  # Turn off axis\n",
    "\n",
    "# Show the plot\n",
    "plt.show()\n",
    "```"
   ]
  },
  {
   "cell_type": "markdown",
   "id": "5e8ed82c",
   "metadata": {},
   "source": [
    "<div class=\"alert alert-info\">\n",
    "  <strong> 📓 ACTION 3.3: Compare the filtered and unfiltered binary masks</strong>\n",
    "</div>\n",
    "\n",
    "Use `plt` to display `raw_image`, `binary_mask`, and `filtered_binary_mask` side by side."
   ]
  },
  {
   "cell_type": "code",
   "execution_count": null,
   "id": "e1bb614b",
   "metadata": {},
   "outputs": [],
   "source": [
    "# Create a figure and axis\n",
    "fig, axes = plt.subplots(1, 3, figsize=(15, 5))  # 1 row, 3 columns\n",
    "\n",
    "# Plot the 3 images\n",
    "#raw_image\n",
    "axes[0].imshow(raw_image, cmap='gray', vmin=raw_image.min(), vmax=raw_image.max()) # plot the raw_image\n",
    "axes[0].set_title(\"Raw Image\", fontweight='bold') # label the raw_image\n",
    "axes[0].axis('off')  # Turn off axis\n",
    "\n",
    "# binary_mask (using raw_image)\n",
    "axes[1].imshow(binary_mask, cmap='gray', vmin=binary_mask.min(), vmax=binary_mask.max()) # plot the binary_mask\n",
    "axes[1].set_title(\"Unfiltered Binary Mask\", fontweight='bold') # label the binary_mask\n",
    "axes[1].axis('off')  # Turn off axis\n",
    "\n",
    "# filtered_binary_mask (using filtered_image)\n",
    "axes[2].imshow(filtered_binary_mask, cmap='gray', vmin=filtered_binary_mask.min(), vmax=filtered_binary_mask.max()) # plot the filtered_binary_mask\n",
    "axes[2].set_title(\"Filtered Binary Mask\", fontweight='bold') # label the filtered_binary_mask\n",
    "axes[2].axis('off')  # Turn off axis\n",
    "\n",
    "# Show the plot\n",
    "plt.show()"
   ]
  },
  {
   "cell_type": "markdown",
   "id": "1606abe2",
   "metadata": {},
   "source": [
    "***"
   ]
  },
  {
   "cell_type": "markdown",
   "id": "d00e582b",
   "metadata": {},
   "source": [
    "## <div style = 'background-color:#74B868'> 4. Mask Curation\n",
    "</div>"
   ]
  },
  {
   "cell_type": "markdown",
   "id": "5e060920",
   "metadata": {},
   "source": [
    "**Concept.**  \n",
    "**Mask curation** is when additional processing steps are applied to a binary mask to more accurately match the image foreground. \n",
    "\n",
    "### Common mask curation steps\n",
    "There are many different ways we can curate a binary mask. The table below summarizes very common curation steps:\n",
    "| Algorithm Name | Description | How to import it | Documentation Link |\n",
    "|---------|---------|----------------|----------------|\n",
    "| Watershed Transform | A useful algorithm for separating touching objects | `from skimage.segmentation import watershed` | [skimage.segmentation.watershed](https://scikit-image.org/docs/0.25.x/api/skimage.segmentation.html#skimage.segmentation.watershed) |\n",
    "| Morphological Opening | Mathematical operation that results in small object removal | `from skimage.morphology import binary_opening` | [skimage.morphology.binary_opening](https://scikit-image.org/docs/stable/api/skimage.morphology.html#skimage.morphology.binary_opening) |\n",
    "| Morphological Closing | Mathematical operation that results in small hole removal | `from skimage.morphology import binary_closing` | [skimage.morphology.binary_closing](https://scikit-image.org/docs/stable/api/skimage.morphology.html#skimage.morphology.binary_closing) |\n",
    "| Morphological Erosion | Mathematical operation that reduces shape size | `from skimage.morphology import binary_erosion` | [skimage.morphology.binary_erosion](https://scikit-image.org/docs/stable/api/skimage.morphology.html#skimage.morphology.binary_erosion) |\n",
    "| Morphological Dilation | Mathematical operation that increases shape size | `from skimage.morphology import binary_dilation` | [skimage.morphology.binary_dilation](https://scikit-image.org/docs/stable/api/skimage.morphology.html#skimage.morphology.binary_dilation) |\n",
    "\n",
    "### Applying a Watershed Transformation on an Image\n",
    "For today, let's apply a Watershed Transformation to our `filtered_binary_mask` to separate any touching nuclei. From `skimage.segmentation` we can use `watershed()` to do this: \n",
    "```python\n",
    "from skimage.segmentation import watershed\n",
    "watershed(filtered_binary_mask)\n",
    "```\n",
    "Here, `watershed()` will apply the Watershed Transform to the inputted `raw_image`. It will return the transformed image, so we should assign it a variable!\n",
    "\n",
    "Now you give it a try!"
   ]
  },
  {
   "cell_type": "markdown",
   "id": "debd599b",
   "metadata": {},
   "source": [
    "<div class=\"alert alert-info\">\n",
    "  <strong> 📓 ACTION 4.1: Apply a Watershed transformation to the binary mask</strong>\n",
    "</div>\n",
    "\n",
    "From `skimage.segmentation`, use `watershed()` to apply a Watershed transformation to `filtered_binary_mask` and assign the resut to the variable `curated_binary_mask`. Then display the result using `plt.imshow()`!"
   ]
  },
  {
   "cell_type": "code",
   "execution_count": null,
   "id": "70e822bc",
   "metadata": {},
   "outputs": [],
   "source": [
    "from skimage.segmentation import watershed\n",
    "curated_binary_mask = watershed(filtered_binary_mask)\n",
    "plt.imshow(curated_binary_mask)"
   ]
  },
  {
   "cell_type": "markdown",
   "id": "5f7534c7",
   "metadata": {},
   "source": [
    "### Evaluating the curated mask\n",
    "We can evaluate the effect of the Watershed Transform curation of the binary mask by comparing `filtered_binary_mask` to `curated_binary_mask`. Here, we are looking to see whether each white region (pixel value 1) is a separate object. If the Watershed Transform curation was successful, `curated_binary_mask` will have separated objects, whereas `filtered_binary_max` won't. To compare the two masks, we can use `plt` to plot `raw_image`, `filtered_binary_mask`, and `curated_binary_mask` side by side. Here's how we structure the code: \n",
    "```python\n",
    "# Create a figure and axis\n",
    "fig, axes = plt.subplots(1, 3, figsize=(15, 5))  # 1 row, 3 columns\n",
    "\n",
    "# Plot the 3 images\n",
    "#raw_image\n",
    "axes[0].imshow(raw_image, cmap='gray', vmin=raw_image.min(), vmax=raw_image.max()) # plot the raw_image\n",
    "axes[0].set_title(\"Raw Image\", fontweight='bold') # label the raw_image\n",
    "axes[0].axis('off')  # Turn off axis\n",
    "\n",
    "# filtered_binary_mask (using filtered_image, no Watershed Transform)\n",
    "axes[1].imshow(filtered_binary_mask, cmap='gray', vmin=filtered_binary_mask.min(), vmax=filtered_binary_mask.max()) # plot the filtered_binary_mask\n",
    "axes[1].set_title(\"Filtered Binary Mask\", fontweight='bold') # label the filtered_binary_mask\n",
    "axes[1].axis('off')  # Turn off axis\n",
    "\n",
    "# curated_binary_mask (using filtered_image, Watershed Transform applied)\n",
    "axes[2].imshow(curated_binary_mask, cmap='gray', vmin=curated_binary_mask.min(), vmax=curated_binary_mask.max()) # plot the curated_binary_mask\n",
    "axes[2].set_title(\"Curated Binary Mask\", fontweight='bold') # label the curated_binary_mask\n",
    "axes[2].axis('off')  # Turn off axis\n",
    "# Show the plot\n",
    "plt.show()\n",
    "```\n",
    "\n",
    "Now you give it a try!"
   ]
  },
  {
   "cell_type": "markdown",
   "id": "248caa30",
   "metadata": {},
   "source": [
    "<div class=\"alert alert-info\">\n",
    "  <strong> 📓 ACTION 4.2: Compare the uncurated and curated masks</strong>\n",
    "</div>\n",
    "\n",
    "Use `plt` to display `raw_image`, `filtered_binary_mask`, and `curated_binary_mask` side by side."
   ]
  },
  {
   "cell_type": "code",
   "execution_count": null,
   "id": "5dd9a51b",
   "metadata": {},
   "outputs": [],
   "source": [
    "# Create a figure and axis\n",
    "fig, axes = plt.subplots(1, 3, figsize=(15, 5))  # 1 row, 3 columns\n",
    "\n",
    "# Plot the 3 images\n",
    "#raw_image\n",
    "axes[0].imshow(raw_image, cmap='gray', vmin=raw_image.min(), vmax=raw_image.max()) # plot the raw_image\n",
    "axes[0].set_title(\"Raw Image\", fontweight='bold') # label the raw_image\n",
    "axes[0].axis('off')  # Turn off axis\n",
    "\n",
    "# filtered_binary_mask (using filtered_image, no Watershed Transform)\n",
    "axes[1].imshow(filtered_binary_mask, cmap='gray', vmin=filtered_binary_mask.min(), vmax=filtered_binary_mask.max()) # plot the filtered_binary_mask\n",
    "axes[1].set_title(\"Filtered Binary Mask\", fontweight='bold') # label the filtered_binary_mask\n",
    "axes[1].axis('off')  # Turn off axis\n",
    "\n",
    "# curated_binary_mask (using filtered_image, Watershed Transform applied)\n",
    "axes[2].imshow(curated_binary_mask, cmap='gray', vmin=curated_binary_mask.min(), vmax=curated_binary_mask.max()) # plot the curated_binary_mask\n",
    "axes[2].set_title(\"Curated Binary Mask\", fontweight='bold') # label the curated_binary_mask\n",
    "axes[2].axis('off')  # Turn off axis\n",
    "# Show the plot\n",
    "plt.show()"
   ]
  },
  {
   "cell_type": "markdown",
   "id": "45bcb4dd",
   "metadata": {},
   "source": [
    "***"
   ]
  },
  {
   "cell_type": "markdown",
   "id": "71072aba",
   "metadata": {},
   "source": [
    "## <div style = 'background-color:#74B868'> 5. Mask Labeling \n",
    "</div>"
   ]
  },
  {
   "cell_type": "markdown",
   "id": "4377aec2",
   "metadata": {},
   "source": [
    "**Concept.**  \n",
    "Now that we have a binary mask that has white, or value 1, pixels that match the image foreground and black, or value 0, pixels that match the image background, we need a way to distinguish individual objects within this mask. **Labeling** a mask is when we identify individual objects within a binary mask and assign them a unique identifier. \n",
    "\n",
    "### Labeling a binary mask\n",
    "From `skimage.measure` we can use `label()` to label a curated binary mask. Here's how we do it: \n",
    "```python\n",
    "from skimage.measure import label\n",
    "label(curated_binary_mask)\n",
    "```\n",
    "Here, `label()` will take the inputted `curated_binary_image` and count each connected object in the image and assign them a number starting from 1. It will then return an image where each object's pixels have the value of its object's assigned number. and all of the pixel values will  Thes. It will return the transformed image, so we should assign it a variable!\n",
    "\n",
    "Your turn!"
   ]
  },
  {
   "cell_type": "markdown",
   "id": "e3aed757",
   "metadata": {},
   "source": [
    "<div class=\"alert alert-info\">\n",
    "  <strong> 📓 ACTION 5.1: Label the curated binary mask</strong>\n",
    "</div>\n",
    "\n",
    "From `skimage.measure`, use `label()` to label `curated_binary_mask` and assign the result to the variable `labeled_image`. "
   ]
  },
  {
   "cell_type": "code",
   "execution_count": null,
   "id": "ced25859",
   "metadata": {},
   "outputs": [],
   "source": [
    "from skimage.measure import label\n",
    "labeled_image = label(curated_binary_mask)"
   ]
  },
  {
   "cell_type": "markdown",
   "id": "584c9a12",
   "metadata": {},
   "source": [
    "### Displaying a labeled mask on top of the image\n",
    "To wrap up this lesson, let's now summarize our final segmentation result in 1 image by viewing the labeled mask overlayed onto the original raw image. From `skimage.color`, we can use `label2rgb` to do this: \n",
    "```python\n",
    "from skimage.color import label2rgb\n",
    "label2rgb(labeled_image, image = raw_image, bg_label=0)\n",
    "```\n",
    "Here, `label2rgb()` is filled with a few arguments. First, we input the labeled mask `labeled_image`. Then, we specify the original image we want the `labeled_image` overlayed onto by saying `image = raw_image`. Finally, we specify `bg_label=0` to make the background of `labeled_image` transparent when it's overlayed onto `raw_image`. The output will be an rgb image of the labeled mask overlayed onto the raw image. Assign this result a variable for easy reference!\n",
    "\n",
    "Now you give it a try!"
   ]
  },
  {
   "cell_type": "markdown",
   "id": "76aa0c30",
   "metadata": {},
   "source": [
    "<div class=\"alert alert-info\">\n",
    "  <strong> 📓 ACTION 5.2: Display the labeled mask overlayed onto the raw image</strong>\n",
    "</div>\n",
    "\n",
    "From `skimage.color`, use `label2rgb()` to create an image of the `labeled_image` overlayed onto the `raw_image`. Then use `plt.imshow()` to display the result."
   ]
  },
  {
   "cell_type": "code",
   "execution_count": null,
   "id": "21627fd3",
   "metadata": {},
   "outputs": [],
   "source": [
    "from skimage.color import label2rgb\n",
    "image_label_overlay = label2rgb(labeled_image, image=raw_image, bg_label=0)\n",
    "plt.imshow(image_label_overlay)"
   ]
  },
  {
   "cell_type": "code",
   "execution_count": 9,
   "metadata": {},
   "outputs": [
    {
     "name": "stdout",
     "output_type": "stream",
     "text": [
      "<generator object Path.iterdir at 0x116c786c0>\n",
      "[PosixPath('/Users/edelase/HMS Dropbox/Eva de la Serna/Eva_CITE_folder/projects/bobiac/lectures/classic_segmentation/classic_segmentation.key'), PosixPath('/Users/edelase/HMS Dropbox/Eva de la Serna/Eva_CITE_folder/projects/bobiac/lectures/classic_segmentation/.ipynb_checkpoints'), PosixPath('/Users/edelase/HMS Dropbox/Eva de la Serna/Eva_CITE_folder/projects/bobiac/lectures/classic_segmentation/DAPI_wf_0.tif'), PosixPath('/Users/edelase/HMS Dropbox/Eva de la Serna/Eva_CITE_folder/projects/bobiac/lectures/classic_segmentation/classic_segmentation.ipynb')]\n",
      "<generator object Path.glob at 0x1075b2570>\n",
      "[PosixPath('/Users/edelase/HMS Dropbox/Eva de la Serna/Eva_CITE_folder/projects/bobiac/lectures/classic_segmentation/DAPI_wf_0.tif')]\n"
     ]
    }
   ],
   "source": [
    "from pathlib import Path\n",
    "\n",
    "path = Path(\"/Users/edelase/HMS Dropbox/Eva de la Serna/Eva_CITE_folder/projects/bobiac/lectures/classic_segmentation\")\n",
    "print(path.iterdir())\n",
    "print(list(path.iterdir()))\n",
    "print(path.glob(\"*.tif\"))\n",
    "print(list(path.glob(\"*.tif\")))"
   ]
  },
  {
   "cell_type": "code",
   "execution_count": 11,
   "metadata": {},
   "outputs": [
    {
     "name": "stdout",
     "output_type": "stream",
     "text": [
      "/Users/edelase/HMS Dropbox/Eva de la Serna/Eva_CITE_folder/projects/bobiac/lectures/classic_segmentation/classic_segmentation.key\n",
      "/Users/edelase/HMS Dropbox/Eva de la Serna/Eva_CITE_folder/projects/bobiac/lectures/classic_segmentation/.ipynb_checkpoints\n",
      "/Users/edelase/HMS Dropbox/Eva de la Serna/Eva_CITE_folder/projects/bobiac/lectures/classic_segmentation/DAPI_wf_0.tif\n",
      "/Users/edelase/HMS Dropbox/Eva de la Serna/Eva_CITE_folder/projects/bobiac/lectures/classic_segmentation/classic_segmentation.ipynb\n"
     ]
    }
   ],
   "source": [
    "for p in path.iterdir():\n",
    "    print(p)"
   ]
  },
  {
   "cell_type": "code",
   "execution_count": 13,
   "metadata": {},
   "outputs": [
    {
     "name": "stdout",
     "output_type": "stream",
     "text": [
      "/Users/edelase/HMS Dropbox/Eva de la Serna/Eva_CITE_folder/projects/bobiac/lectures/classic_segmentation/DAPI_wf_0.tif\n"
     ]
    }
   ],
   "source": [
    "for p in path.glob(\"*.tif\"):\n",
    "    print(p)"
   ]
  },
  {
   "cell_type": "code",
   "execution_count": null,
   "metadata": {},
   "outputs": [],
   "source": []
  }
 ],
 "metadata": {
  "kernelspec": {
   "display_name": "Python 3 (ipykernel)",
   "language": "python",
   "name": "python3"
  },
  "language_info": {
   "codemirror_mode": {
    "name": "ipython",
    "version": 3
   },
   "file_extension": ".py",
   "mimetype": "text/x-python",
   "name": "python",
   "nbconvert_exporter": "python",
   "pygments_lexer": "ipython3",
   "version": "3.11.4"
  }
 },
 "nbformat": 4,
 "nbformat_minor": 5
}
